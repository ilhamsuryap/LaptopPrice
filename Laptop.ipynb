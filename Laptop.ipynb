{
 "cells": [
  {
   "cell_type": "markdown",
   "id": "bf961b7e",
   "metadata": {},
   "source": [
    "1. inisialisasi dan import libraries"
   ]
  },
  {
   "cell_type": "code",
   "execution_count": null,
   "metadata": {},
   "outputs": [],
   "source": [
    "import pandas as pd\n",
    "import numpy as np\n",
    "import streamlit as st\n",
    "import joblib\n",
    "from sklearn.model_selection import train_test_split\n",
    "from sklearn.linear_model import LinearRegression\n",
    "from sklearn.preprocessing import LabelEncoder\n",
    "import seaborn as sns\n",
    "import matplotlib.pyplot as plt\n",
    "from PIL import Image, ImageOps, ImageDraw, ExifTags\n",
    "import streamlit as st"
   ]
  },
  {
   "cell_type": "markdown",
   "id": "937ed526",
   "metadata": {},
   "source": [
    "2. variabel image_paths menyimpan daftar nama file gambar anggota tim, dan team_names menyimpan daftar nama anggota tim yang sesuai untuk ditampilkan bersama dalam aplikasi."
   ]
  },
  {
   "cell_type": "code",
   "execution_count": null,
   "id": "8882faaf",
   "metadata": {
    "lines_to_next_cell": 2
   },
   "outputs": [],
   "source": [
    "# Path gambar tim dan nama anggota tim\n",
    "image_paths = [\"karim.jpg\", \"ilham.jpg\", \"tyo.JPG\", \"lovvy.JPG\"]\n",
    "team_names = [\"Miftahul Karim\", \"Ilham Surya\", \"Bagus Prasetyo\", \"Putri Arensya\"]"
   ]
  },
  {
   "cell_type": "markdown",
   "id": "7ea36a4d",
   "metadata": {},
   "source": [
    "3. Baris kode ini digunakan untuk menampilkan judul \"Aplikasi Prediksi Harga Laptop\" di antarmuka aplikasi web Streamlit."
   ]
  },
  {
   "cell_type": "code",
   "execution_count": null,
   "id": "aab442fd",
   "metadata": {},
   "outputs": [],
   "source": [
    "# Judul aplikasi web\n",
    "st.title(\"Aplikasi Prediksi Harga Laptop\")"
   ]
  },
  {
   "cell_type": "markdown",
   "id": "94df140c",
   "metadata": {},
   "source": [
    "4. membuat menu dropdown di sidebar aplikasi Streamlit, memungkinkan pengguna untuk memilih antara opsi \"Overview\", \"Data Visualization\", \"Prediction\", atau \"About Us\"."
   ]
  },
  {
   "cell_type": "code",
   "execution_count": null,
   "id": "3cf64262",
   "metadata": {
    "lines_to_next_cell": 1
   },
   "outputs": [],
   "source": [
    "# Menu sidebar untuk memilih antara Overview, Data Visualization, atau Prediction\n",
    "menu = st.sidebar.selectbox(\"Menu\", [\"Overview\", \"Data Visualization\", \"Prediction\", \"About Us\"])"
   ]
  },
  {
   "cell_type": "markdown",
   "id": "bf7e363f",
   "metadata": {},
   "source": [
    "5. memuat dataset dan menyimpannya di cache"
   ]
  },
  {
   "cell_type": "code",
   "execution_count": null,
   "id": "8e974ba6",
   "metadata": {
    "lines_to_next_cell": 1
   },
   "outputs": [],
   "source": [
    "# Fungsi untuk memuat dataset dan menyimpannya di cache\n",
    "@st.cache_data\n",
    "def load_data():\n",
    "    # Membaca dataset dari file CSV\n",
    "    df = pd.read_csv(\"LaptopPrice.csv\")\n",
    "    return df"
   ]
  },
  {
   "cell_type": "markdown",
   "id": "fe1c434b",
   "metadata": {},
   "source": [
    "6. Memuat data ke dalam dataframe"
   ]
  },
  {
   "cell_type": "code",
   "execution_count": null,
   "id": "50d65ae8",
   "metadata": {},
   "outputs": [],
   "source": [
    "# Memuat data ke dalam dataframe\n",
    "df = load_data()"
   ]
  },
  {
   "cell_type": "markdown",
   "id": "0ce6d0db",
   "metadata": {},
   "source": [
    "7. menampilkan bagian \"Overview\" yang memberikan gambaran umum tentang dataset, termasuk jumlah baris, dimensi, informasi kolom, dan jumlah nilai yang hilang, serta menampilkan dataset dalam format interaktif menggunakan Streamlit."
   ]
  },
  {
   "cell_type": "code",
   "execution_count": null,
   "id": "c3a8e72e",
   "metadata": {},
   "outputs": [],
   "source": [
    "# Menu: Overview - Menampilkan gambaran umum dataset\n",
    "if menu == \"Overview\":\n",
    "    st.subheader(\"Gambaran Dataset\")\n",
    "    st.write(f\"Total baris dalam dataset: {df.shape[0]}\")  # Menampilkan total baris dalam dataset\n",
    "    st.dataframe(df)  # Menampilkan seluruh dataset dalam format interaktif\n",
    "    st.write(\"Shape dari dataset:\", df.shape)  # Menampilkan dimensi dataset (baris dan kolom)\n",
    "    st.write(\"Informasi Kolom:\")\n",
    "    st.write(df.info())  # Menampilkan informasi tentang kolom dataset (tipe data, non-null values)\n",
    "    st.write(\"Nilai yang hilang dalam dataset:\")\n",
    "    st.write(df.isnull().sum())  # Menampilkan jumlah nilai yang hilang (null) pada setiap kolom\n",
    "elif menu == \"Data Visualization\":\n",
    "    st.subheader(\"Visualisasi Data\")"
   ]
  },
  {
   "cell_type": "markdown",
   "id": "fbed4969",
   "metadata": {},
   "source": [
    "8. memilih kolom dan jenis plot untuk visualisasi data, kemudian menghasilkan grafik sesuai pilihan (seperti barplot, lineplot, boxplot, scatterplot, atau histogram) dan memberikan penjelasan terkait plot yang ditampilkan."
   ]
  },
  {
   "cell_type": "code",
   "execution_count": null,
   "id": "ac66d52b",
   "metadata": {},
   "outputs": [],
   "source": [
    "# Menu: Data Visualization - Menampilkan visualisasi data\n",
    "elif menu == \"Data Visualization\":\n",
    "    st.subheader(\"Visualisasi Data\")\n",
    "\n",
    "    # Pilih kolom untuk sumbu X dan Y untuk visualisasi\n",
    "    x_col = st.selectbox(\"Pilih kolom X-axis\", df.columns)\n",
    "    y_col = st.selectbox(\"Pilih kolom Y-axis\", df.columns)\n",
    "\n",
    "    # Pilih jenis plot yang akan ditampilkan\n",
    "    plot_type = st.selectbox(\"Pilih jenis plot\", [\"Barplot\", \"Lineplot\", \"Boxplot\", \"Scatterplot\", \"Histogram\"])\n",
    "\n",
    "    # Membuat plot berdasarkan pilihan pengguna\n",
    "    fig, ax = plt.subplots()\n",
    "    if plot_type == \"Barplot\":\n",
    "        sns.barplot(data=df, x=x_col, y=y_col, ax=ax)  # Membuat barplot\n",
    "        explanation = f\"Barplot ini menunjukkan hubungan antara {x_col} dan {y_col}. Setiap bar mewakili nilai {x_col}, dan tinggi bar menggambarkan nilai rata-rata {y_col}.\"\n",
    "        \n",
    "    elif plot_type == \"Lineplot\":\n",
    "        sns.lineplot(data=df, x=x_col, y=y_col, ax=ax)  # Membuat lineplot\n",
    "        explanation = f\"Lineplot ini menggambarkan tren {y_col} terhadap {x_col}. Garis yang terbentuk menunjukkan perubahan nilai {y_col} seiring dengan perubahan {x_col}.\"\n",
    "        \n",
    "    elif plot_type == \"Boxplot\":\n",
    "        sns.boxplot(data=df, x=x_col, y=y_col, ax=ax)  # Membuat boxplot\n",
    "        explanation = f\"Boxplot ini digunakan untuk menunjukkan distribusi {y_col} untuk setiap kategori {x_col}. Boxplot membantu untuk mengidentifikasi outlier dan persebaran data.\"\n",
    "        \n",
    "    elif plot_type == \"Scatterplot\":\n",
    "        sns.scatterplot(data=df, x=x_col, y=y_col, ax=ax)  # Membuat scatterplot\n",
    "        explanation = f\"Scatterplot ini menunjukkan hubungan antara {x_col} dan {y_col}. Setiap titik mewakili pasangan nilai dari kedua variabel tersebut.\"\n",
    "        \n",
    "    elif plot_type == \"Histogram\":\n",
    "        sns.histplot(data=df, x=x_col, ax=ax)  # Membuat histogram\n",
    "        explanation = f\"Histogram ini menggambarkan distribusi frekuensi nilai {x_col}. Sumbu X menunjukkan rentang nilai, dan sumbu Y menunjukkan jumlah data yang jatuh dalam rentang tersebut.\"\n",
    "        \n",
    "\n",
    "    # Menampilkan plot yang telah dibuat\n",
    "    st.pyplot(fig)\n",
    "\n",
    "    # Menampilkan penjelasan untuk grafik yang dipilih\n",
    "    st.write(explanation)"
   ]
  },
  {
   "cell_type": "markdown",
   "id": "f2aeb63a",
   "metadata": {},
   "source": [
    "9. memasukkan spesifikasi laptop dan menggunakan model regresi linear yang telah dilatih untuk memprediksi harga laptop, kemudian menampilkan hasil prediksi serta grafik garis yang menggambarkan harga yang diprediksi."
   ]
  },
  {
   "cell_type": "code",
   "execution_count": null,
   "id": "7af2116d",
   "metadata": {},
   "outputs": [],
   "source": [
    "# Menu: Prediction - Menampilkan fitur untuk prediksi harga laptop\n",
    "elif menu == \"Prediction\":\n",
    "    st.subheader(\"Prediksi Harga Laptop\")\n",
    "\n",
    "    # Mendefinisikan kolom numerik yang akan digunakan sebagai fitur\n",
    "    numeric_cols = ['Processor_Speed', 'RAM_Size', 'Storage_Capacity', 'Screen_Size', 'Weight']\n",
    "    target_col = 'Price'  # Kolom target untuk prediksi harga laptop\n",
    "\n",
    "    # Mengkodekan kolom kategorikal (jika ada)\n",
    "    for column in df.columns:\n",
    "        if df[column].dtype == 'object':\n",
    "            le = LabelEncoder()  # Membuat objek LabelEncoder\n",
    "            df[column] = le.fit_transform(df[column])  # Mengkodekan data kategorikal menjadi angka\n",
    "\n",
    "    # Memisahkan fitur dan target\n",
    "    X = df[numeric_cols]  # Fitur (kolom numerik)\n",
    "    y = df[target_col]  # Target (harga laptop)\n",
    "\n",
    "    # Membagi data menjadi data latih (train) dan data uji (test)\n",
    "    X_train, X_test, y_train, y_test = train_test_split(X, y, test_size=0.2, random_state=42)\n",
    "\n",
    "    # Melatih model regresi linear\n",
    "    model = LinearRegression()\n",
    "    model.fit(X_train, y_train)  # Melatih model dengan data latih (tanpa scaling)\n",
    "\n",
    "    # Simpan model hanya sekali (jika belum ada)\n",
    "    if 'model_prediksi_harga_laptop.sav' not in st.session_state:\n",
    "        joblib.dump(model, \"model_prediksi_harga_laptop.sav\")  # Menyimpan model ke file\n",
    "        st.session_state['model_prediksi_harga_laptop.sav'] = True  # Tandai bahwa model sudah disimpan\n",
    "        st.write(\"Model disimpan!\")  # Memberikan notifikasi bahwa model telah disimpan\n",
    "\n",
    "    # Input pengguna untuk spesifikasi laptop yang akan diprediksi\n",
    "    st.write(\"Masukkan spesifikasi laptop:\")\n",
    "    processor_speed = st.number_input(\"Kecepatan Prosesor (GHz)\", min_value=1.0, max_value=5.0, value=2.5, step=0.1)\n",
    "    ram_size = st.number_input(\"Ukuran RAM (GB)\", min_value=2, max_value=64, value=8, step=2)\n",
    "    storage_capacity = st.number_input(\"Kapasitas Penyimpanan (GB)\", min_value=128, max_value=2048, value=512, step=128)\n",
    "    screen_size = st.number_input(\"Ukuran Layar (inci)\", min_value=10.0, max_value=20.0, value=15.6, step=0.1)\n",
    "    weight = st.number_input(\"Berat (kg)\", min_value=0.5, max_value=5.0, value=2.0, step=0.1)\n",
    "\n",
    "    # Memuat model yang sudah disimpan\n",
    "    model = joblib.load(\"model_prediksi_harga_laptop.sav\")\n",
    "\n",
    "    # Prediksi harga ketika tombol ditekan\n",
    "    if st.button(\"Prediksi Harga\"):\n",
    "        # Input pengguna langsung digunakan tanpa skalasi\n",
    "        user_input = np.array([[processor_speed, ram_size, storage_capacity, screen_size, weight]])  # Menggunakan input pengguna langsung\n",
    "        predicted_price = model.predict(user_input)  # Melakukan prediksi harga menggunakan model\n",
    "\n",
    "        st.write(f\"Prediksi Harga Laptop: ${predicted_price[0]:,.2f}\")  # Menampilkan hasil prediksi harga\n",
    "\n",
    "        # Menampilkan grafik garis dengan prediksi harga\n",
    "        fig, ax = plt.subplots()\n",
    "        ax.plot([\"Prediksi Harga\"], predicted_price, marker=\"o\", color=\"b\", label=\"Harga Prediksi\")\n",
    "        ax.set_ylabel(\"Harga Laptop ($)\")\n",
    "        ax.set_title(\"Prediksi Harga Laptop\")\n",
    "        ax.legend()\n",
    "        st.pyplot(fig)"
   ]
  },
  {
   "cell_type": "markdown",
   "id": "121491c2",
   "metadata": {},
   "source": [
    "10. informasi tentang aplikasi, fitur-fitur yang ada, serta mengenalkan tim pengembang dengan gambar anggota tim dalam bentuk lingkaran, diikuti dengan informasi kontak seperti email dan situs web aplikasi."
   ]
  },
  {
   "cell_type": "code",
   "execution_count": null,
   "id": "bbd861e5",
   "metadata": {},
   "outputs": [],
   "source": [
    "# Menu: About Us - Menampilkan informasi pengembang\n",
    "elif menu == \"About Us\":\n",
    "    st.title(\"About Us\")\n",
    "    st.write(\"\"\"\n",
    "    Selamat datang di aplikasi Machine Learning LaptopPrice!\n",
    "    \n",
    "    Aplikasi ini dirancang untuk membantu pengguna memprediksi harga laptop berdasarkan berbagai fitur menggunakan algoritma machine learning. Tujuan kami adalah untuk memberikan prediksi harga yang akurat dan bermanfaat, agar pengguna dapat membuat keputusan pembelian yang lebih bijak.\n",
    "\n",
    "    **Fitur-fitur aplikasi kami meliputi:**\n",
    "    - **Pemodelan Prediktif:** Menggunakan teknik machine learning canggih untuk memprediksi harga laptop.\n",
    "    - **Antarmuka Ramah Pengguna:** Antarmuka yang mudah dinavigasi sehingga memudahkan prediksi harga.\n",
    "    - **Visualisasi Data:** Grafik dan bagan yang mendetail untuk membantu pengguna memahami tren dan pola harga.\n",
    "\n",
    "    **Tentang Tim Kami:**\n",
    "    Tim kami terdiri dari ilmuwan data dan insinyur perangkat lunak yang berdedikasi untuk membuat teknologi yang bermanfaat dan mudah diakses untuk semua orang. Kami percaya pada kekuatan machine learning untuk mengubah cara kita membuat keputusan dan berharap aplikasi ini dapat memberikan nilai tambah pada pengalaman pembelian laptop Anda.\n",
    "    \n",
    "    Terima kasih telah menggunakan aplikasi kami!\n",
    "    \"\"\")\n",
    "\n",
    "    st.subheader(\"Tim Kami\")\n",
    "\n",
    "    cols = st.columns(4)\n",
    "\n",
    "    # Menampilkan gambar tim dalam bentuk lingkaran dengan orientasi yang benar\n",
    "    for idx, path in enumerate(image_paths):\n",
    "        image = Image.open(path)\n",
    "        \n",
    "        # Memperbaiki orientasi gambar\n",
    "        try:\n",
    "            for orientation in ExifTags.TAGS.keys():\n",
    "                if ExifTags.TAGS[orientation] == 'Orientation':\n",
    "                    break\n",
    "            exif = dict(image._getexif().items())\n",
    "            if exif[orientation] == 3:\n",
    "                image = image.rotate(180, expand=True)\n",
    "            elif exif[orientation] == 6:\n",
    "                image = image.rotate(270, expand=True)\n",
    "            elif exif[orientation] == 8:\n",
    "                image = image.rotate(90, expand=True)\n",
    "        except (AttributeError, KeyError, IndexError):\n",
    "            # Jika gambar tidak memiliki data EXIF, lewati perbaikan orientasi\n",
    "            pass\n",
    "        \n",
    "        size = (min(image.width, image.height),) * 2\n",
    "        mask = Image.new('L', size, 0)\n",
    "        draw = ImageDraw.Draw(mask)\n",
    "        draw.ellipse((0, 0) + size, fill=255)\n",
    "        image_circle = ImageOps.fit(image, size, centering=(0.5, 0.5))\n",
    "        image_circle.putalpha(mask)\n",
    "        with cols[idx]:\n",
    "            st.image(image_circle, caption=team_names[idx])\n",
    "\n",
    "    st.write(\"\"\"\n",
    "    **Informasi Kontak:**\n",
    "    - Email: support@laptoppriceapp.com\n",
    "    - Situs Web: www.laptoppriceapp.com\n",
    "    \"\"\")"
   ]
  }
 ],
 "metadata": {
  "jupytext": {
   "cell_metadata_filter": "-all",
   "main_language": "python",
   "notebook_metadata_filter": "-all"
  },
  "language_info": {
   "name": "python"
  }
 },
 "nbformat": 4,
 "nbformat_minor": 5
}
